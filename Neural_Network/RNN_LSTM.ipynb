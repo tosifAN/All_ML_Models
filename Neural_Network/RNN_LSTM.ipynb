{
 "cells": [
  {
   "cell_type": "code",
   "execution_count": 1,
   "id": "f94b0ab8",
   "metadata": {},
   "outputs": [],
   "source": [
    "#Dataset Link : https://www.kaggle.com/datasets/rahulsah06/gooogle-stock-price/data"
   ]
  },
  {
   "cell_type": "code",
   "execution_count": 2,
   "id": "19665b17",
   "metadata": {},
   "outputs": [],
   "source": [
    "import numpy as np\n",
    "import pandas as pd\n",
    "import matplotlib.pyplot as plt\n",
    "import seaborn as sns\n",
    "import datetime as dt\n",
    "import plotly.io as pio\n",
    "\n",
    "\n",
    "import warnings\n",
    "warnings.filterwarnings(\"ignore\")\n",
    "warnings.warn(\"this will not show\")\n",
    "\n",
    "plt.rcParams[\"figure.figsize\"] = (10,6)\n",
    "\n",
    "sns.set_style(\"whitegrid\")\n",
    "pd.set_option('display.float_format', lambda x: '%.3f' % x)\n",
    "\n",
    "# Set it None to display all rows in the dataframe\n",
    "# pd.set_option('display.max_rows', None)\n",
    "\n",
    "# Set it to None to display all columns in the dataframe\n",
    "pd.set_option('display.max_columns', None)\n",
    "pio.templates.default = \"plotly_dark\""
   ]
  },
  {
   "cell_type": "code",
   "execution_count": 5,
   "id": "930bc9d8",
   "metadata": {},
   "outputs": [
    {
     "data": {
      "text/html": [
       "<div>\n",
       "<style scoped>\n",
       "    .dataframe tbody tr th:only-of-type {\n",
       "        vertical-align: middle;\n",
       "    }\n",
       "\n",
       "    .dataframe tbody tr th {\n",
       "        vertical-align: top;\n",
       "    }\n",
       "\n",
       "    .dataframe thead th {\n",
       "        text-align: right;\n",
       "    }\n",
       "</style>\n",
       "<table border=\"1\" class=\"dataframe\">\n",
       "  <thead>\n",
       "    <tr style=\"text-align: right;\">\n",
       "      <th></th>\n",
       "      <th>Open</th>\n",
       "      <th>High</th>\n",
       "      <th>Low</th>\n",
       "      <th>Close</th>\n",
       "      <th>Volume</th>\n",
       "    </tr>\n",
       "    <tr>\n",
       "      <th>Date</th>\n",
       "      <th></th>\n",
       "      <th></th>\n",
       "      <th></th>\n",
       "      <th></th>\n",
       "      <th></th>\n",
       "    </tr>\n",
       "  </thead>\n",
       "  <tbody>\n",
       "    <tr>\n",
       "      <th>2012-01-03</th>\n",
       "      <td>325.250</td>\n",
       "      <td>332.830</td>\n",
       "      <td>324.970</td>\n",
       "      <td>663.59</td>\n",
       "      <td>7,380,500</td>\n",
       "    </tr>\n",
       "    <tr>\n",
       "      <th>2012-01-04</th>\n",
       "      <td>331.270</td>\n",
       "      <td>333.870</td>\n",
       "      <td>329.080</td>\n",
       "      <td>666.45</td>\n",
       "      <td>5,749,400</td>\n",
       "    </tr>\n",
       "    <tr>\n",
       "      <th>2012-01-05</th>\n",
       "      <td>329.830</td>\n",
       "      <td>330.750</td>\n",
       "      <td>326.890</td>\n",
       "      <td>657.21</td>\n",
       "      <td>6,590,300</td>\n",
       "    </tr>\n",
       "    <tr>\n",
       "      <th>2012-01-06</th>\n",
       "      <td>328.340</td>\n",
       "      <td>328.770</td>\n",
       "      <td>323.680</td>\n",
       "      <td>648.24</td>\n",
       "      <td>5,405,900</td>\n",
       "    </tr>\n",
       "    <tr>\n",
       "      <th>2012-01-09</th>\n",
       "      <td>322.040</td>\n",
       "      <td>322.290</td>\n",
       "      <td>309.460</td>\n",
       "      <td>620.76</td>\n",
       "      <td>11,688,800</td>\n",
       "    </tr>\n",
       "  </tbody>\n",
       "</table>\n",
       "</div>"
      ],
      "text/plain": [
       "              Open    High     Low   Close      Volume\n",
       "Date                                                  \n",
       "2012-01-03 325.250 332.830 324.970  663.59   7,380,500\n",
       "2012-01-04 331.270 333.870 329.080  666.45   5,749,400\n",
       "2012-01-05 329.830 330.750 326.890  657.21   6,590,300\n",
       "2012-01-06 328.340 328.770 323.680  648.24   5,405,900\n",
       "2012-01-09 322.040 322.290 309.460  620.76  11,688,800"
      ]
     },
     "execution_count": 5,
     "metadata": {},
     "output_type": "execute_result"
    }
   ],
   "source": [
    "train = pd.read_csv(\"../Datasets/google/Google_Stock_Price_Train.csv\", parse_dates=['Date'], index_col=\"Date\")\n",
    "train.head()"
   ]
  },
  {
   "cell_type": "code",
   "execution_count": 6,
   "id": "ea94e4a2",
   "metadata": {},
   "outputs": [
    {
     "data": {
      "text/html": [
       "<div>\n",
       "<style scoped>\n",
       "    .dataframe tbody tr th:only-of-type {\n",
       "        vertical-align: middle;\n",
       "    }\n",
       "\n",
       "    .dataframe tbody tr th {\n",
       "        vertical-align: top;\n",
       "    }\n",
       "\n",
       "    .dataframe thead th {\n",
       "        text-align: right;\n",
       "    }\n",
       "</style>\n",
       "<table border=\"1\" class=\"dataframe\">\n",
       "  <thead>\n",
       "    <tr style=\"text-align: right;\">\n",
       "      <th></th>\n",
       "      <th>Open</th>\n",
       "      <th>High</th>\n",
       "      <th>Low</th>\n",
       "      <th>Close</th>\n",
       "      <th>Volume</th>\n",
       "    </tr>\n",
       "    <tr>\n",
       "      <th>Date</th>\n",
       "      <th></th>\n",
       "      <th></th>\n",
       "      <th></th>\n",
       "      <th></th>\n",
       "      <th></th>\n",
       "    </tr>\n",
       "  </thead>\n",
       "  <tbody>\n",
       "    <tr>\n",
       "      <th>2017-01-03</th>\n",
       "      <td>778.810</td>\n",
       "      <td>789.630</td>\n",
       "      <td>775.800</td>\n",
       "      <td>786.140</td>\n",
       "      <td>1,657,300</td>\n",
       "    </tr>\n",
       "    <tr>\n",
       "      <th>2017-01-04</th>\n",
       "      <td>788.360</td>\n",
       "      <td>791.340</td>\n",
       "      <td>783.160</td>\n",
       "      <td>786.900</td>\n",
       "      <td>1,073,000</td>\n",
       "    </tr>\n",
       "    <tr>\n",
       "      <th>2017-01-05</th>\n",
       "      <td>786.080</td>\n",
       "      <td>794.480</td>\n",
       "      <td>785.020</td>\n",
       "      <td>794.020</td>\n",
       "      <td>1,335,200</td>\n",
       "    </tr>\n",
       "    <tr>\n",
       "      <th>2017-01-06</th>\n",
       "      <td>795.260</td>\n",
       "      <td>807.900</td>\n",
       "      <td>792.200</td>\n",
       "      <td>806.150</td>\n",
       "      <td>1,640,200</td>\n",
       "    </tr>\n",
       "    <tr>\n",
       "      <th>2017-01-09</th>\n",
       "      <td>806.400</td>\n",
       "      <td>809.970</td>\n",
       "      <td>802.830</td>\n",
       "      <td>806.650</td>\n",
       "      <td>1,272,400</td>\n",
       "    </tr>\n",
       "  </tbody>\n",
       "</table>\n",
       "</div>"
      ],
      "text/plain": [
       "              Open    High     Low   Close     Volume\n",
       "Date                                                 \n",
       "2017-01-03 778.810 789.630 775.800 786.140  1,657,300\n",
       "2017-01-04 788.360 791.340 783.160 786.900  1,073,000\n",
       "2017-01-05 786.080 794.480 785.020 794.020  1,335,200\n",
       "2017-01-06 795.260 807.900 792.200 806.150  1,640,200\n",
       "2017-01-09 806.400 809.970 802.830 806.650  1,272,400"
      ]
     },
     "execution_count": 6,
     "metadata": {},
     "output_type": "execute_result"
    }
   ],
   "source": [
    "test = pd.read_csv(\"../datasets/google/Google_Stock_Price_Test.csv\", parse_dates=['Date'], index_col=\"Date\")\n",
    "test.head()"
   ]
  },
  {
   "cell_type": "code",
   "execution_count": 7,
   "id": "6e3861ff",
   "metadata": {},
   "outputs": [],
   "source": [
    "train.drop(['Open', 'High', 'Low', 'Volume'], axis=1, inplace=True)\n",
    "test.drop(['Open', 'High', 'Low', 'Volume'], axis=1, inplace=True)"
   ]
  },
  {
   "cell_type": "code",
   "execution_count": 8,
   "id": "2a961d5b",
   "metadata": {},
   "outputs": [
    {
     "name": "stdout",
     "output_type": "stream",
     "text": [
      "<class 'pandas.core.frame.DataFrame'>\n",
      "DatetimeIndex: 1258 entries, 2012-01-03 to 2016-12-30\n",
      "Data columns (total 1 columns):\n",
      " #   Column  Non-Null Count  Dtype \n",
      "---  ------  --------------  ----- \n",
      " 0   Close   1258 non-null   object\n",
      "dtypes: object(1)\n",
      "memory usage: 19.7+ KB\n"
     ]
    }
   ],
   "source": [
    "train.info()"
   ]
  },
  {
   "cell_type": "code",
   "execution_count": 9,
   "id": "bf1dc6dc",
   "metadata": {},
   "outputs": [],
   "source": [
    "train['Close'] = train['Close'].str.replace(',', '').astype(float)"
   ]
  },
  {
   "cell_type": "code",
   "execution_count": 10,
   "id": "f77cf91b",
   "metadata": {},
   "outputs": [
    {
     "name": "stdout",
     "output_type": "stream",
     "text": [
      "<class 'pandas.core.frame.DataFrame'>\n",
      "DatetimeIndex: 20 entries, 2017-01-03 to 2017-01-31\n",
      "Data columns (total 1 columns):\n",
      " #   Column  Non-Null Count  Dtype  \n",
      "---  ------  --------------  -----  \n",
      " 0   Close   20 non-null     float64\n",
      "dtypes: float64(1)\n",
      "memory usage: 320.0 bytes\n"
     ]
    }
   ],
   "source": [
    "test.info()"
   ]
  },
  {
   "cell_type": "code",
   "execution_count": 11,
   "id": "d6367b90",
   "metadata": {},
   "outputs": [
    {
     "data": {
      "text/plain": [
       "Close    0\n",
       "dtype: int64"
      ]
     },
     "execution_count": 11,
     "metadata": {},
     "output_type": "execute_result"
    }
   ],
   "source": [
    "train.isnull().sum()"
   ]
  },
  {
   "cell_type": "code",
   "execution_count": 12,
   "id": "6780227c",
   "metadata": {},
   "outputs": [
    {
     "data": {
      "text/plain": [
       "Close    0\n",
       "dtype: int64"
      ]
     },
     "execution_count": 12,
     "metadata": {},
     "output_type": "execute_result"
    }
   ],
   "source": [
    "test.isnull().sum()"
   ]
  },
  {
   "cell_type": "code",
   "execution_count": 13,
   "id": "8cc3c8f9",
   "metadata": {},
   "outputs": [
    {
     "data": {
      "text/html": [
       "<div>\n",
       "<style scoped>\n",
       "    .dataframe tbody tr th:only-of-type {\n",
       "        vertical-align: middle;\n",
       "    }\n",
       "\n",
       "    .dataframe tbody tr th {\n",
       "        vertical-align: top;\n",
       "    }\n",
       "\n",
       "    .dataframe thead th {\n",
       "        text-align: right;\n",
       "    }\n",
       "</style>\n",
       "<table border=\"1\" class=\"dataframe\">\n",
       "  <thead>\n",
       "    <tr style=\"text-align: right;\">\n",
       "      <th></th>\n",
       "      <th>count</th>\n",
       "      <th>mean</th>\n",
       "      <th>std</th>\n",
       "      <th>min</th>\n",
       "      <th>25%</th>\n",
       "      <th>50%</th>\n",
       "      <th>75%</th>\n",
       "      <th>max</th>\n",
       "    </tr>\n",
       "  </thead>\n",
       "  <tbody>\n",
       "    <tr>\n",
       "      <th>Close</th>\n",
       "      <td>1258.000</td>\n",
       "      <td>712.670</td>\n",
       "      <td>164.753</td>\n",
       "      <td>491.200</td>\n",
       "      <td>576.740</td>\n",
       "      <td>695.675</td>\n",
       "      <td>782.105</td>\n",
       "      <td>1216.830</td>\n",
       "    </tr>\n",
       "  </tbody>\n",
       "</table>\n",
       "</div>"
      ],
      "text/plain": [
       "         count    mean     std     min     25%     50%     75%      max\n",
       "Close 1258.000 712.670 164.753 491.200 576.740 695.675 782.105 1216.830"
      ]
     },
     "execution_count": 13,
     "metadata": {},
     "output_type": "execute_result"
    }
   ],
   "source": [
    "train.describe().T"
   ]
  },
  {
   "cell_type": "code",
   "execution_count": 18,
   "id": "64f4c891",
   "metadata": {},
   "outputs": [
    {
     "name": "stdout",
     "output_type": "stream",
     "text": [
      "Training data shape :  (1258, 1)\n",
      "Testing data shape :  (20, 1)\n"
     ]
    }
   ],
   "source": [
    "print(\"Training data shape : \", train.shape)\n",
    "print(\"Testing data shape : \", test.shape)"
   ]
  },
  {
   "cell_type": "markdown",
   "id": "74b7fcc2",
   "metadata": {},
   "source": [
    "Scaling"
   ]
  },
  {
   "cell_type": "code",
   "execution_count": 17,
   "id": "caa13ee9",
   "metadata": {},
   "outputs": [],
   "source": [
    "from sklearn.preprocessing import MinMaxScaler"
   ]
  },
  {
   "cell_type": "code",
   "execution_count": 19,
   "id": "d731a291",
   "metadata": {},
   "outputs": [],
   "source": [
    "scaler = MinMaxScaler()\n"
   ]
  },
  {
   "cell_type": "code",
   "execution_count": 20,
   "id": "45621e0c",
   "metadata": {},
   "outputs": [],
   "source": [
    "train_scaled = scaler.fit_transform(train)\n",
    "test_scaled = scaler.transform(test)"
   ]
  },
  {
   "cell_type": "code",
   "execution_count": 21,
   "id": "0a39a8a2",
   "metadata": {},
   "outputs": [],
   "source": [
    "from tensorflow.keras.preprocessing.sequence import TimeseriesGenerator\n"
   ]
  },
  {
   "cell_type": "code",
   "execution_count": 22,
   "id": "666d775a",
   "metadata": {},
   "outputs": [],
   "source": [
    "length = 12\n",
    "batch_size = 1\n",
    "generator = TimeseriesGenerator(train_scaled, train_scaled, length = length, batch_size = batch_size)"
   ]
  },
  {
   "cell_type": "code",
   "execution_count": 23,
   "id": "ab0786f2",
   "metadata": {},
   "outputs": [
    {
     "data": {
      "text/plain": [
       "1246"
      ]
     },
     "execution_count": 23,
     "metadata": {},
     "output_type": "execute_result"
    }
   ],
   "source": [
    "len(generator)"
   ]
  },
  {
   "cell_type": "code",
   "execution_count": 24,
   "id": "0d59cd7a",
   "metadata": {},
   "outputs": [
    {
     "data": {
      "text/plain": [
       "(array([[[0.23757287],\n",
       "         [0.24151427],\n",
       "         [0.22878051],\n",
       "         [0.21641884],\n",
       "         [0.1785483 ],\n",
       "         [0.17947163],\n",
       "         [0.18335791],\n",
       "         [0.18841558],\n",
       "         [0.18202114],\n",
       "         [0.18695478],\n",
       "         [0.19290823],\n",
       "         [0.2020589 ]]]),\n",
       " array([[0.12842633]]))"
      ]
     },
     "execution_count": 24,
     "metadata": {},
     "output_type": "execute_result"
    }
   ],
   "source": [
    "generator[0]"
   ]
  },
  {
   "cell_type": "code",
   "execution_count": 25,
   "id": "33a39f2a",
   "metadata": {},
   "outputs": [],
   "source": [
    "from tensorflow.keras.models import Sequential\n",
    "from tensorflow.keras.layers import Dense, LSTM, SimpleRNN\n",
    "from tensorflow.keras.callbacks import EarlyStopping\n",
    "from keras.layers import Dropout"
   ]
  },
  {
   "cell_type": "code",
   "execution_count": 26,
   "id": "da3f204c",
   "metadata": {},
   "outputs": [
    {
     "data": {
      "text/plain": [
       "(1258, 1)"
      ]
     },
     "execution_count": 26,
     "metadata": {},
     "output_type": "execute_result"
    }
   ],
   "source": [
    "train_scaled.shape"
   ]
  },
  {
   "cell_type": "code",
   "execution_count": 27,
   "id": "7bf19e62",
   "metadata": {},
   "outputs": [
    {
     "data": {
      "text/plain": [
       "1"
      ]
     },
     "execution_count": 27,
     "metadata": {},
     "output_type": "execute_result"
    }
   ],
   "source": [
    "n_features = train_scaled.shape[1]\n",
    "n_features"
   ]
  },
  {
   "cell_type": "code",
   "execution_count": 28,
   "id": "c6a73b59",
   "metadata": {},
   "outputs": [],
   "source": [
    "from keras.layers import Dropout\n",
    "\n",
    "model = Sequential()\n",
    "model.add(SimpleRNN(units=128, activation=\"tanh\", input_shape=(length, n_features)))\n",
    "model.add(Dropout(0.2))\n",
    "model.add(Dense(64, activation=\"tanh\"))\n",
    "model.add(Dense(32, activation=\"tanh\"))  \n",
    "model.add(Dense(1))\n",
    "\n",
    "model.compile(optimizer=\"adam\", loss=\"mse\")"
   ]
  },
  {
   "cell_type": "code",
   "execution_count": 29,
   "id": "7cceae10",
   "metadata": {},
   "outputs": [
    {
     "name": "stdout",
     "output_type": "stream",
     "text": [
      "Model: \"sequential\"\n",
      "_________________________________________________________________\n",
      " Layer (type)                Output Shape              Param #   \n",
      "=================================================================\n",
      " simple_rnn (SimpleRNN)      (None, 128)               16640     \n",
      "                                                                 \n",
      " dropout (Dropout)           (None, 128)               0         \n",
      "                                                                 \n",
      " dense (Dense)               (None, 64)                8256      \n",
      "                                                                 \n",
      " dense_1 (Dense)             (None, 32)                2080      \n",
      "                                                                 \n",
      " dense_2 (Dense)             (None, 1)                 33        \n",
      "                                                                 \n",
      "=================================================================\n",
      "Total params: 27,009\n",
      "Trainable params: 27,009\n",
      "Non-trainable params: 0\n",
      "_________________________________________________________________\n"
     ]
    }
   ],
   "source": [
    "model.summary()"
   ]
  },
  {
   "cell_type": "code",
   "execution_count": 30,
   "id": "f38acabf",
   "metadata": {},
   "outputs": [],
   "source": [
    "early_stop = EarlyStopping(monitor = 'val_loss', patience = 5, restore_best_weights = True)\n"
   ]
  },
  {
   "cell_type": "code",
   "execution_count": 31,
   "id": "ccafa00a",
   "metadata": {},
   "outputs": [],
   "source": [
    "validation_generator = TimeseriesGenerator(test_scaled, test_scaled, length = length, batch_size = batch_size)\n"
   ]
  },
  {
   "cell_type": "code",
   "execution_count": 32,
   "id": "43e39a2a",
   "metadata": {},
   "outputs": [
    {
     "name": "stdout",
     "output_type": "stream",
     "text": [
      "Epoch 1/30\n",
      "1246/1246 [==============================] - 9s 5ms/step - loss: 0.0053 - val_loss: 5.7328e-04\n",
      "Epoch 2/30\n",
      "1246/1246 [==============================] - 6s 5ms/step - loss: 0.0019 - val_loss: 8.2371e-04\n",
      "Epoch 3/30\n",
      "1246/1246 [==============================] - 6s 5ms/step - loss: 0.0025 - val_loss: 2.3772e-04\n",
      "Epoch 4/30\n",
      "1246/1246 [==============================] - 6s 5ms/step - loss: 0.0019 - val_loss: 2.6947e-04\n",
      "Epoch 5/30\n",
      "1246/1246 [==============================] - 6s 5ms/step - loss: 0.0022 - val_loss: 1.3822e-04\n",
      "Epoch 6/30\n",
      "1246/1246 [==============================] - 6s 5ms/step - loss: 0.0019 - val_loss: 0.0015\n",
      "Epoch 7/30\n",
      "1246/1246 [==============================] - 6s 5ms/step - loss: 0.0035 - val_loss: 0.0016\n",
      "Epoch 8/30\n",
      "1246/1246 [==============================] - 6s 5ms/step - loss: 0.0018 - val_loss: 6.6195e-04\n",
      "Epoch 9/30\n",
      "1246/1246 [==============================] - 6s 5ms/step - loss: 0.0017 - val_loss: 3.6938e-04\n",
      "Epoch 10/30\n",
      "1246/1246 [==============================] - 6s 5ms/step - loss: 0.0020 - val_loss: 3.7934e-04\n"
     ]
    },
    {
     "data": {
      "text/plain": [
       "<keras.callbacks.History at 0x202294de1d0>"
      ]
     },
     "execution_count": 32,
     "metadata": {},
     "output_type": "execute_result"
    }
   ],
   "source": [
    "model.fit(generator,\n",
    "            epochs = 30,\n",
    "            validation_data = validation_generator,\n",
    "            callbacks = [early_stop])"
   ]
  },
  {
   "cell_type": "code",
   "execution_count": 33,
   "id": "644f593f",
   "metadata": {},
   "outputs": [
    {
     "data": {
      "text/plain": [
       "<Axes: >"
      ]
     },
     "execution_count": 33,
     "metadata": {},
     "output_type": "execute_result"
    },
    {
     "data": {
      "image/png": "[encoded data removed]",
      "text/plain": [
       "<Figure size 1000x600 with 1 Axes>"
      ]
     },
     "metadata": {},
     "output_type": "display_data"
    }
   ],
   "source": [
    "loss_df = pd.DataFrame(model.history.history)\n",
    "loss_df.plot()"
   ]
  },
  {
   "cell_type": "code",
   "execution_count": 34,
   "id": "f4cec20d",
   "metadata": {},
   "outputs": [],
   "source": [
    "from sklearn.metrics import mean_absolute_error, mean_squared_error\n"
   ]
  },
  {
   "cell_type": "code",
   "execution_count": 35,
   "id": "95cce4ea",
   "metadata": {},
   "outputs": [],
   "source": [
    "def eval_metrics(actual, pred):\n",
    "    rmse = np.sqrt(mean_squared_error(actual, pred))\n",
    "    mae = mean_absolute_error(actual, pred)\n",
    "    mse = mean_squared_error(actual, pred)\n",
    "    return print(\"\\nmae:\", mae, \"\\nmse:\",mse, \"\\nrmse:\",rmse)"
   ]
  },
  {
   "cell_type": "code",
   "execution_count": 36,
   "id": "58855600",
   "metadata": {},
   "outputs": [
    {
     "name": "stdout",
     "output_type": "stream",
     "text": [
      "1/1 [==============================] - 0s 362ms/step\n",
      "1/1 [==============================] - 0s 36ms/step\n",
      "1/1 [==============================] - 0s 37ms/step\n",
      "1/1 [==============================] - 0s 41ms/step\n",
      "1/1 [==============================] - 0s 38ms/step\n",
      "1/1 [==============================] - 0s 39ms/step\n",
      "1/1 [==============================] - 0s 48ms/step\n",
      "1/1 [==============================] - 0s 43ms/step\n",
      "1/1 [==============================] - 0s 38ms/step\n",
      "1/1 [==============================] - 0s 37ms/step\n",
      "1/1 [==============================] - 0s 42ms/step\n",
      "1/1 [==============================] - 0s 40ms/step\n"
     ]
    }
   ],
   "source": [
    "predictions_scaled = []\n",
    "\n",
    "first_eval_batch = train_scaled[-length:]\n",
    "current_batch = first_eval_batch.reshape((1, length, n_features))\n",
    "\n",
    "for i in range(length):\n",
    "    \n",
    "    # get prediction 1 time stamp ahead\n",
    "    current_pred = model.predict(current_batch)\n",
    "    \n",
    "    # store prediction\n",
    "    predictions_scaled.append(current_pred[0]) \n",
    "    \n",
    "    # update batch to now include prediction and drop first value\n",
    "    current_batch = np.append(current_batch[:, 1:, :], [current_pred], axis=1)"
   ]
  },
  {
   "cell_type": "code",
   "execution_count": 37,
   "id": "c890612e",
   "metadata": {},
   "outputs": [
    {
     "data": {
      "text/plain": [
       "array([[0.44435918]], dtype=float32)"
      ]
     },
     "execution_count": 37,
     "metadata": {},
     "output_type": "execute_result"
    }
   ],
   "source": [
    "current_pred"
   ]
  },
  {
   "cell_type": "code",
   "execution_count": 38,
   "id": "7acc4c5b",
   "metadata": {},
   "outputs": [
    {
     "data": {
      "text/plain": [
       "array([[[0.38959938],\n",
       "        [0.39719534],\n",
       "        [0.40967798],\n",
       "        [0.41821384],\n",
       "        [0.42642248],\n",
       "        [0.43123269],\n",
       "        [0.43519372],\n",
       "        [0.43801856],\n",
       "        [0.44149083],\n",
       "        [0.44337869],\n",
       "        [0.44490635],\n",
       "        [0.44435918]]])"
      ]
     },
     "execution_count": 38,
     "metadata": {},
     "output_type": "execute_result"
    }
   ],
   "source": [
    "current_batch\n"
   ]
  },
  {
   "cell_type": "code",
   "execution_count": 39,
   "id": "982f351b",
   "metadata": {},
   "outputs": [
    {
     "data": {
      "text/plain": [
       "[array([0.38959938], dtype=float32),\n",
       " array([0.39719534], dtype=float32),\n",
       " array([0.40967798], dtype=float32),\n",
       " array([0.41821384], dtype=float32),\n",
       " array([0.42642248], dtype=float32),\n",
       " array([0.4312327], dtype=float32),\n",
       " array([0.43519372], dtype=float32),\n",
       " array([0.43801856], dtype=float32),\n",
       " array([0.44149083], dtype=float32),\n",
       " array([0.4433787], dtype=float32),\n",
       " array([0.44490635], dtype=float32),\n",
       " array([0.44435918], dtype=float32)]"
      ]
     },
     "execution_count": 39,
     "metadata": {},
     "output_type": "execute_result"
    }
   ],
   "source": [
    "predictions_scaled\n"
   ]
  },
  {
   "cell_type": "code",
   "execution_count": 40,
   "id": "9192b946",
   "metadata": {},
   "outputs": [
    {
     "name": "stdout",
     "output_type": "stream",
     "text": [
      "\n",
      "mae: 0.009012868106210456 \n",
      "mse: 0.00010933637405144733 \n",
      "rmse: 0.010456403495057338\n"
     ]
    }
   ],
   "source": [
    "eval_metrics(test_scaled[:length], predictions_scaled)\n"
   ]
  },
  {
   "cell_type": "code",
   "execution_count": 41,
   "id": "3de360b8",
   "metadata": {},
   "outputs": [],
   "source": [
    "predictions = scaler.inverse_transform(predictions_scaled)\n"
   ]
  },
  {
   "cell_type": "code",
   "execution_count": 42,
   "id": "466e6ce3",
   "metadata": {},
   "outputs": [
    {
     "data": {
      "text/html": [
       "<div>\n",
       "<style scoped>\n",
       "    .dataframe tbody tr th:only-of-type {\n",
       "        vertical-align: middle;\n",
       "    }\n",
       "\n",
       "    .dataframe tbody tr th {\n",
       "        vertical-align: top;\n",
       "    }\n",
       "\n",
       "    .dataframe thead th {\n",
       "        text-align: right;\n",
       "    }\n",
       "</style>\n",
       "<table border=\"1\" class=\"dataframe\">\n",
       "  <thead>\n",
       "    <tr style=\"text-align: right;\">\n",
       "      <th></th>\n",
       "      <th>Close</th>\n",
       "      <th>Predictions_tanh</th>\n",
       "    </tr>\n",
       "    <tr>\n",
       "      <th>Date</th>\n",
       "      <th></th>\n",
       "      <th></th>\n",
       "    </tr>\n",
       "  </thead>\n",
       "  <tbody>\n",
       "    <tr>\n",
       "      <th>2017-01-03</th>\n",
       "      <td>786.140</td>\n",
       "      <td>773.905</td>\n",
       "    </tr>\n",
       "    <tr>\n",
       "      <th>2017-01-04</th>\n",
       "      <td>786.900</td>\n",
       "      <td>779.417</td>\n",
       "    </tr>\n",
       "    <tr>\n",
       "      <th>2017-01-05</th>\n",
       "      <td>794.020</td>\n",
       "      <td>788.475</td>\n",
       "    </tr>\n",
       "    <tr>\n",
       "      <th>2017-01-06</th>\n",
       "      <td>806.150</td>\n",
       "      <td>794.669</td>\n",
       "    </tr>\n",
       "    <tr>\n",
       "      <th>2017-01-09</th>\n",
       "      <td>806.650</td>\n",
       "      <td>800.625</td>\n",
       "    </tr>\n",
       "    <tr>\n",
       "      <th>2017-01-10</th>\n",
       "      <td>804.790</td>\n",
       "      <td>804.115</td>\n",
       "    </tr>\n",
       "    <tr>\n",
       "      <th>2017-01-11</th>\n",
       "      <td>807.910</td>\n",
       "      <td>806.990</td>\n",
       "    </tr>\n",
       "    <tr>\n",
       "      <th>2017-01-12</th>\n",
       "      <td>806.360</td>\n",
       "      <td>809.039</td>\n",
       "    </tr>\n",
       "    <tr>\n",
       "      <th>2017-01-13</th>\n",
       "      <td>807.880</td>\n",
       "      <td>811.559</td>\n",
       "    </tr>\n",
       "    <tr>\n",
       "      <th>2017-01-17</th>\n",
       "      <td>804.610</td>\n",
       "      <td>812.929</td>\n",
       "    </tr>\n",
       "    <tr>\n",
       "      <th>2017-01-18</th>\n",
       "      <td>806.070</td>\n",
       "      <td>814.037</td>\n",
       "    </tr>\n",
       "    <tr>\n",
       "      <th>2017-01-19</th>\n",
       "      <td>802.170</td>\n",
       "      <td>813.640</td>\n",
       "    </tr>\n",
       "  </tbody>\n",
       "</table>\n",
       "</div>"
      ],
      "text/plain": [
       "             Close  Predictions_tanh\n",
       "Date                                \n",
       "2017-01-03 786.140           773.905\n",
       "2017-01-04 786.900           779.417\n",
       "2017-01-05 794.020           788.475\n",
       "2017-01-06 806.150           794.669\n",
       "2017-01-09 806.650           800.625\n",
       "2017-01-10 804.790           804.115\n",
       "2017-01-11 807.910           806.990\n",
       "2017-01-12 806.360           809.039\n",
       "2017-01-13 807.880           811.559\n",
       "2017-01-17 804.610           812.929\n",
       "2017-01-18 806.070           814.037\n",
       "2017-01-19 802.170           813.640"
      ]
     },
     "execution_count": 42,
     "metadata": {},
     "output_type": "execute_result"
    }
   ],
   "source": [
    "compare = test[:12]\n",
    "compare['Predictions_tanh'] = predictions\n",
    "compare"
   ]
  },
  {
   "cell_type": "code",
   "execution_count": 43,
   "id": "88ad11df",
   "metadata": {},
   "outputs": [
    {
     "data": {
      "text/plain": [
       "<Axes: xlabel='Date'>"
      ]
     },
     "execution_count": 43,
     "metadata": {},
     "output_type": "execute_result"
    },
    {
     "data": {
      "image/png": "[encoded data removed]",
      "text/plain": [
       "<Figure size 1000x600 with 1 Axes>"
      ]
     },
     "metadata": {},
     "output_type": "display_data"
    }
   ],
   "source": [
    "compare.plot()"
   ]
  },
  {
   "cell_type": "code",
   "execution_count": 44,
   "id": "9d217f0a",
   "metadata": {},
   "outputs": [
    {
     "name": "stdout",
     "output_type": "stream",
     "text": [
      "\n",
      "mae: 6.5400074839095055 \n",
      "mse: 57.569853784095265 \n",
      "rmse: 7.5874800681184835\n"
     ]
    }
   ],
   "source": [
    "eval_metrics(compare.Close, compare.Predictions_tanh)\n"
   ]
  },
  {
   "cell_type": "code",
   "execution_count": 45,
   "id": "978236ca",
   "metadata": {},
   "outputs": [],
   "source": [
    "model = Sequential()\n",
    "model.add(LSTM(64, activation = 'relu', return_sequences=True, input_shape = (length, n_features)))\n",
    "model.add(LSTM(32, activation = 'relu', return_sequences=True))\n",
    "model.add(LSTM(16, activation = 'relu'))\n",
    "model.add(Dense(1))\n",
    "model.compile(optimizer = 'adam', loss = 'mse')"
   ]
  },
  {
   "cell_type": "code",
   "execution_count": 46,
   "id": "6bbc1b93",
   "metadata": {},
   "outputs": [
    {
     "name": "stdout",
     "output_type": "stream",
     "text": [
      "Model: \"sequential_1\"\n",
      "_________________________________________________________________\n",
      " Layer (type)                Output Shape              Param #   \n",
      "=================================================================\n",
      " lstm (LSTM)                 (None, 12, 64)            16896     \n",
      "                                                                 \n",
      " lstm_1 (LSTM)               (None, 12, 32)            12416     \n",
      "                                                                 \n",
      " lstm_2 (LSTM)               (None, 16)                3136      \n",
      "                                                                 \n",
      " dense_3 (Dense)             (None, 1)                 17        \n",
      "                                                                 \n",
      "=================================================================\n",
      "Total params: 32,465\n",
      "Trainable params: 32,465\n",
      "Non-trainable params: 0\n",
      "_________________________________________________________________\n"
     ]
    }
   ],
   "source": [
    "model.summary()"
   ]
  },
  {
   "cell_type": "code",
   "execution_count": 47,
   "id": "e764d164",
   "metadata": {},
   "outputs": [],
   "source": [
    "early_stop = EarlyStopping(monitor = 'val_loss', patience = 5, restore_best_weights = True)\n"
   ]
  },
  {
   "cell_type": "code",
   "execution_count": 48,
   "id": "770e6fe7",
   "metadata": {},
   "outputs": [
    {
     "name": "stdout",
     "output_type": "stream",
     "text": [
      "Epoch 1/30\n",
      "1246/1246 [==============================] - 25s 16ms/step - loss: 0.0096 - val_loss: 0.0049\n",
      "Epoch 2/30\n",
      "1246/1246 [==============================] - 18s 15ms/step - loss: 0.0039 - val_loss: 5.6865e-04\n",
      "Epoch 3/30\n",
      "1246/1246 [==============================] - 19s 15ms/step - loss: 0.0053 - val_loss: 0.0253\n",
      "Epoch 4/30\n",
      "1246/1246 [==============================] - 19s 15ms/step - loss: 0.0035 - val_loss: 8.6075e-04\n",
      "Epoch 5/30\n",
      "1246/1246 [==============================] - 20s 16ms/step - loss: 0.0024 - val_loss: 6.7124e-04\n",
      "Epoch 6/30\n",
      "1246/1246 [==============================] - 20s 16ms/step - loss: 0.0022 - val_loss: 5.7382e-04\n",
      "Epoch 7/30\n",
      "1246/1246 [==============================] - 19s 15ms/step - loss: 0.0019 - val_loss: 6.3861e-04\n"
     ]
    },
    {
     "data": {
      "text/plain": [
       "<keras.callbacks.History at 0x2022dd8df90>"
      ]
     },
     "execution_count": 48,
     "metadata": {},
     "output_type": "execute_result"
    }
   ],
   "source": [
    "model.fit(generator,\n",
    "            epochs = 30,\n",
    "            validation_data = validation_generator,\n",
    "            callbacks = [early_stop])"
   ]
  },
  {
   "cell_type": "code",
   "execution_count": 49,
   "id": "a382ed79",
   "metadata": {},
   "outputs": [
    {
     "data": {
      "text/plain": [
       "<Axes: >"
      ]
     },
     "execution_count": 49,
     "metadata": {},
     "output_type": "execute_result"
    },
    {
     "data": {
      "image/png": "[encoded data removed]",
      "text/plain": [
       "<Figure size 1000x600 with 1 Axes>"
      ]
     },
     "metadata": {},
     "output_type": "display_data"
    }
   ],
   "source": [
    "loss_df = pd.DataFrame(model.history.history)\n",
    "loss_df.plot()"
   ]
  },
  {
   "cell_type": "code",
   "execution_count": 50,
   "id": "6eb7fac1",
   "metadata": {},
   "outputs": [
    {
     "name": "stdout",
     "output_type": "stream",
     "text": [
      "1/1 [==============================] - 1s 730ms/step\n",
      "1/1 [==============================] - 0s 41ms/step\n",
      "1/1 [==============================] - 0s 40ms/step\n",
      "1/1 [==============================] - 0s 39ms/step\n",
      "1/1 [==============================] - 0s 37ms/step\n",
      "1/1 [==============================] - 0s 43ms/step\n",
      "1/1 [==============================] - 0s 40ms/step\n",
      "1/1 [==============================] - 0s 40ms/step\n",
      "1/1 [==============================] - 0s 39ms/step\n",
      "1/1 [==============================] - 0s 39ms/step\n",
      "1/1 [==============================] - 0s 35ms/step\n",
      "1/1 [==============================] - 0s 37ms/step\n"
     ]
    }
   ],
   "source": [
    "predictions_scaled = []\n",
    "\n",
    "first_eval_batch = train_scaled[-length:]\n",
    "current_batch = first_eval_batch.reshape((1, length, n_features))\n",
    "\n",
    "for i in range(length):\n",
    "    \n",
    "    # get prediction 1 time stamp ahead\n",
    "    current_pred = model.predict(current_batch)\n",
    "    \n",
    "    # store prediction\n",
    "    predictions_scaled.append(current_pred[0]) \n",
    "    \n",
    "    # update batch to now include prediction and drop first value\n",
    "    current_batch = np.append(current_batch[:, 1:, :], [current_pred], axis=1)"
   ]
  },
  {
   "cell_type": "code",
   "execution_count": 51,
   "id": "d1c435e5",
   "metadata": {},
   "outputs": [],
   "source": [
    "predictions = scaler.inverse_transform(predictions_scaled)\n"
   ]
  },
  {
   "cell_type": "code",
   "execution_count": 52,
   "id": "8bf4be52",
   "metadata": {},
   "outputs": [
    {
     "data": {
      "text/html": [
       "<div>\n",
       "<style scoped>\n",
       "    .dataframe tbody tr th:only-of-type {\n",
       "        vertical-align: middle;\n",
       "    }\n",
       "\n",
       "    .dataframe tbody tr th {\n",
       "        vertical-align: top;\n",
       "    }\n",
       "\n",
       "    .dataframe thead th {\n",
       "        text-align: right;\n",
       "    }\n",
       "</style>\n",
       "<table border=\"1\" class=\"dataframe\">\n",
       "  <thead>\n",
       "    <tr style=\"text-align: right;\">\n",
       "      <th></th>\n",
       "      <th>Close</th>\n",
       "      <th>Predictions_tanh</th>\n",
       "      <th>Predictions_relu</th>\n",
       "    </tr>\n",
       "    <tr>\n",
       "      <th>Date</th>\n",
       "      <th></th>\n",
       "      <th></th>\n",
       "      <th></th>\n",
       "    </tr>\n",
       "  </thead>\n",
       "  <tbody>\n",
       "    <tr>\n",
       "      <th>2017-01-03</th>\n",
       "      <td>786.140</td>\n",
       "      <td>773.905</td>\n",
       "      <td>791.576</td>\n",
       "    </tr>\n",
       "    <tr>\n",
       "      <th>2017-01-04</th>\n",
       "      <td>786.900</td>\n",
       "      <td>779.417</td>\n",
       "      <td>789.818</td>\n",
       "    </tr>\n",
       "    <tr>\n",
       "      <th>2017-01-05</th>\n",
       "      <td>794.020</td>\n",
       "      <td>788.475</td>\n",
       "      <td>788.755</td>\n",
       "    </tr>\n",
       "    <tr>\n",
       "      <th>2017-01-06</th>\n",
       "      <td>806.150</td>\n",
       "      <td>794.669</td>\n",
       "      <td>788.120</td>\n",
       "    </tr>\n",
       "    <tr>\n",
       "      <th>2017-01-09</th>\n",
       "      <td>806.650</td>\n",
       "      <td>800.625</td>\n",
       "      <td>787.740</td>\n",
       "    </tr>\n",
       "    <tr>\n",
       "      <th>2017-01-10</th>\n",
       "      <td>804.790</td>\n",
       "      <td>804.115</td>\n",
       "      <td>787.630</td>\n",
       "    </tr>\n",
       "    <tr>\n",
       "      <th>2017-01-11</th>\n",
       "      <td>807.910</td>\n",
       "      <td>806.990</td>\n",
       "      <td>788.080</td>\n",
       "    </tr>\n",
       "    <tr>\n",
       "      <th>2017-01-12</th>\n",
       "      <td>806.360</td>\n",
       "      <td>809.039</td>\n",
       "      <td>788.779</td>\n",
       "    </tr>\n",
       "    <tr>\n",
       "      <th>2017-01-13</th>\n",
       "      <td>807.880</td>\n",
       "      <td>811.559</td>\n",
       "      <td>789.634</td>\n",
       "    </tr>\n",
       "    <tr>\n",
       "      <th>2017-01-17</th>\n",
       "      <td>804.610</td>\n",
       "      <td>812.929</td>\n",
       "      <td>789.590</td>\n",
       "    </tr>\n",
       "    <tr>\n",
       "      <th>2017-01-18</th>\n",
       "      <td>806.070</td>\n",
       "      <td>814.037</td>\n",
       "      <td>789.937</td>\n",
       "    </tr>\n",
       "    <tr>\n",
       "      <th>2017-01-19</th>\n",
       "      <td>802.170</td>\n",
       "      <td>813.640</td>\n",
       "      <td>790.349</td>\n",
       "    </tr>\n",
       "  </tbody>\n",
       "</table>\n",
       "</div>"
      ],
      "text/plain": [
       "             Close  Predictions_tanh  Predictions_relu\n",
       "Date                                                  \n",
       "2017-01-03 786.140           773.905           791.576\n",
       "2017-01-04 786.900           779.417           789.818\n",
       "2017-01-05 794.020           788.475           788.755\n",
       "2017-01-06 806.150           794.669           788.120\n",
       "2017-01-09 806.650           800.625           787.740\n",
       "2017-01-10 804.790           804.115           787.630\n",
       "2017-01-11 807.910           806.990           788.080\n",
       "2017-01-12 806.360           809.039           788.779\n",
       "2017-01-13 807.880           811.559           789.634\n",
       "2017-01-17 804.610           812.929           789.590\n",
       "2017-01-18 806.070           814.037           789.937\n",
       "2017-01-19 802.170           813.640           790.349"
      ]
     },
     "execution_count": 52,
     "metadata": {},
     "output_type": "execute_result"
    }
   ],
   "source": [
    "compare['Predictions_relu'] = predictions\n",
    "compare"
   ]
  },
  {
   "cell_type": "code",
   "execution_count": 53,
   "id": "67e81ac5",
   "metadata": {},
   "outputs": [
    {
     "data": {
      "text/plain": [
       "<Axes: xlabel='Date'>"
      ]
     },
     "execution_count": 53,
     "metadata": {},
     "output_type": "execute_result"
    },
    {
     "data": {
      "image/png": "[encoded data removed]",
      "text/plain": [
       "<Figure size 1000x600 with 1 Axes>"
      ]
     },
     "metadata": {},
     "output_type": "display_data"
    }
   ],
   "source": [
    "compare.plot()\n"
   ]
  },
  {
   "cell_type": "code",
   "execution_count": 54,
   "id": "b2f4c1c2",
   "metadata": {},
   "outputs": [
    {
     "name": "stdout",
     "output_type": "stream",
     "text": [
      "\n",
      "mae: 13.862489256585633 \n",
      "mse: 225.31431107537404 \n",
      "rmse: 15.01047337945656\n"
     ]
    }
   ],
   "source": [
    "eval_metrics(compare.Close, compare.Predictions_relu)\n"
   ]
  },
  {
   "cell_type": "code",
   "execution_count": 55,
   "id": "ffc3c035",
   "metadata": {},
   "outputs": [],
   "source": [
    "full_data = pd.concat([train, test])\n"
   ]
  },
  {
   "cell_type": "code",
   "execution_count": 56,
   "id": "0e0aea6c",
   "metadata": {},
   "outputs": [],
   "source": [
    "full_scaler = MinMaxScaler()\n",
    "scaled_full_data = full_scaler.fit_transform(full_data)"
   ]
  },
  {
   "cell_type": "code",
   "execution_count": 57,
   "id": "701da295",
   "metadata": {},
   "outputs": [
    {
     "data": {
      "text/html": [
       "<div>\n",
       "<style scoped>\n",
       "    .dataframe tbody tr th:only-of-type {\n",
       "        vertical-align: middle;\n",
       "    }\n",
       "\n",
       "    .dataframe tbody tr th {\n",
       "        vertical-align: top;\n",
       "    }\n",
       "\n",
       "    .dataframe thead th {\n",
       "        text-align: right;\n",
       "    }\n",
       "</style>\n",
       "<table border=\"1\" class=\"dataframe\">\n",
       "  <thead>\n",
       "    <tr style=\"text-align: right;\">\n",
       "      <th></th>\n",
       "      <th>Close</th>\n",
       "    </tr>\n",
       "    <tr>\n",
       "      <th>Date</th>\n",
       "      <th></th>\n",
       "    </tr>\n",
       "  </thead>\n",
       "  <tbody>\n",
       "    <tr>\n",
       "      <th>2012-01-03</th>\n",
       "      <td>663.590</td>\n",
       "    </tr>\n",
       "    <tr>\n",
       "      <th>2012-01-04</th>\n",
       "      <td>666.450</td>\n",
       "    </tr>\n",
       "    <tr>\n",
       "      <th>2012-01-05</th>\n",
       "      <td>657.210</td>\n",
       "    </tr>\n",
       "    <tr>\n",
       "      <th>2012-01-06</th>\n",
       "      <td>648.240</td>\n",
       "    </tr>\n",
       "    <tr>\n",
       "      <th>2012-01-09</th>\n",
       "      <td>620.760</td>\n",
       "    </tr>\n",
       "  </tbody>\n",
       "</table>\n",
       "</div>"
      ],
      "text/plain": [
       "             Close\n",
       "Date              \n",
       "2012-01-03 663.590\n",
       "2012-01-04 666.450\n",
       "2012-01-05 657.210\n",
       "2012-01-06 648.240\n",
       "2012-01-09 620.760"
      ]
     },
     "execution_count": 57,
     "metadata": {},
     "output_type": "execute_result"
    }
   ],
   "source": [
    "full_data.head()\n"
   ]
  },
  {
   "cell_type": "code",
   "execution_count": 58,
   "id": "1cf5ca4b",
   "metadata": {},
   "outputs": [],
   "source": [
    "generator = TimeseriesGenerator(scaled_full_data, scaled_full_data, length = length, batch_size = batch_size)"
   ]
  },
  {
   "cell_type": "code",
   "execution_count": 59,
   "id": "d7c85594",
   "metadata": {},
   "outputs": [
    {
     "data": {
      "text/plain": [
       "1278"
      ]
     },
     "execution_count": 59,
     "metadata": {},
     "output_type": "execute_result"
    }
   ],
   "source": [
    "len(full_data)"
   ]
  },
  {
   "cell_type": "code",
   "execution_count": 60,
   "id": "d2643b84",
   "metadata": {},
   "outputs": [
    {
     "data": {
      "text/plain": [
       "1266"
      ]
     },
     "execution_count": 60,
     "metadata": {},
     "output_type": "execute_result"
    }
   ],
   "source": [
    "len(generator)"
   ]
  },
  {
   "cell_type": "code",
   "execution_count": 61,
   "id": "490c09ca",
   "metadata": {},
   "outputs": [
    {
     "name": "stdout",
     "output_type": "stream",
     "text": [
      "Epoch 1/40\n",
      "1266/1266 [==============================] - 24s 14ms/step - loss: 0.0179\n",
      "Epoch 2/40\n",
      "1266/1266 [==============================] - 18s 14ms/step - loss: 0.0092\n",
      "Epoch 3/40\n",
      "1266/1266 [==============================] - 17s 14ms/step - loss: 0.0073\n",
      "Epoch 4/40\n",
      "1266/1266 [==============================] - 17s 13ms/step - loss: 0.0075\n",
      "Epoch 5/40\n",
      "1266/1266 [==============================] - 18s 14ms/step - loss: 0.0067\n",
      "Epoch 6/40\n",
      "1266/1266 [==============================] - 17s 14ms/step - loss: 0.0065\n",
      "Epoch 7/40\n",
      "1266/1266 [==============================] - 17s 14ms/step - loss: 0.0046\n",
      "Epoch 8/40\n",
      "1266/1266 [==============================] - 17s 13ms/step - loss: 0.0049\n",
      "Epoch 9/40\n",
      "1266/1266 [==============================] - 18s 14ms/step - loss: 0.0048\n",
      "Epoch 10/40\n",
      "1266/1266 [==============================] - 18s 14ms/step - loss: 0.0044\n",
      "Epoch 11/40\n",
      "1266/1266 [==============================] - 17s 14ms/step - loss: 0.0042\n",
      "Epoch 12/40\n",
      "1266/1266 [==============================] - 18s 14ms/step - loss: 0.0044\n",
      "Epoch 13/40\n",
      "1266/1266 [==============================] - 18s 14ms/step - loss: 0.0029\n",
      "Epoch 14/40\n",
      "1266/1266 [==============================] - 17s 13ms/step - loss: 0.0035\n",
      "Epoch 15/40\n",
      "1266/1266 [==============================] - 17s 13ms/step - loss: 0.0039\n",
      "Epoch 16/40\n",
      "1266/1266 [==============================] - 17s 13ms/step - loss: 0.0033\n",
      "Epoch 17/40\n",
      "1266/1266 [==============================] - 17s 14ms/step - loss: 0.0034\n",
      "Epoch 18/40\n",
      "1266/1266 [==============================] - 17s 13ms/step - loss: 0.0037\n",
      "Epoch 19/40\n",
      "1266/1266 [==============================] - 17s 14ms/step - loss: 0.0028\n",
      "Epoch 20/40\n",
      "1266/1266 [==============================] - 17s 14ms/step - loss: 0.0036\n",
      "Epoch 21/40\n",
      "1266/1266 [==============================] - 17s 14ms/step - loss: 0.0032\n",
      "Epoch 22/40\n",
      "1266/1266 [==============================] - 17s 14ms/step - loss: 0.0033\n",
      "Epoch 23/40\n",
      "1266/1266 [==============================] - 17s 13ms/step - loss: 0.0029\n",
      "Epoch 24/40\n",
      "1266/1266 [==============================] - 17s 14ms/step - loss: 0.0036\n",
      "Epoch 25/40\n",
      "1266/1266 [==============================] - 17s 13ms/step - loss: 0.0031\n",
      "Epoch 26/40\n",
      "1266/1266 [==============================] - 17s 13ms/step - loss: 0.0032\n",
      "Epoch 27/40\n",
      "1266/1266 [==============================] - 17s 14ms/step - loss: 0.0033\n",
      "Epoch 28/40\n",
      "1266/1266 [==============================] - 18s 14ms/step - loss: 0.0028\n",
      "Epoch 29/40\n",
      "1266/1266 [==============================] - 17s 14ms/step - loss: 0.0031\n",
      "Epoch 30/40\n",
      "1266/1266 [==============================] - 17s 14ms/step - loss: 0.0035\n",
      "Epoch 31/40\n",
      "1266/1266 [==============================] - 17s 14ms/step - loss: 0.0032\n",
      "Epoch 32/40\n",
      "1266/1266 [==============================] - 18s 14ms/step - loss: 0.0031\n",
      "Epoch 33/40\n",
      "1266/1266 [==============================] - 17s 14ms/step - loss: 0.0031\n",
      "Epoch 34/40\n",
      "1266/1266 [==============================] - 17s 14ms/step - loss: 0.0029\n",
      "Epoch 35/40\n",
      "1266/1266 [==============================] - 17s 14ms/step - loss: 0.0034\n",
      "Epoch 36/40\n",
      "1266/1266 [==============================] - 18s 14ms/step - loss: 0.0035\n",
      "Epoch 37/40\n",
      "1266/1266 [==============================] - 18s 14ms/step - loss: 0.0030\n",
      "Epoch 38/40\n",
      "1266/1266 [==============================] - 18s 15ms/step - loss: 0.0027\n",
      "Epoch 39/40\n",
      "1266/1266 [==============================] - 19s 15ms/step - loss: 0.0028\n",
      "Epoch 40/40\n",
      "1266/1266 [==============================] - 18s 14ms/step - loss: 0.0029\n"
     ]
    },
    {
     "data": {
      "text/plain": [
       "<keras.callbacks.History at 0x20233a414e0>"
      ]
     },
     "execution_count": 61,
     "metadata": {},
     "output_type": "execute_result"
    }
   ],
   "source": [
    "# Initialising the RNN\n",
    "model = Sequential()\n",
    "\n",
    "# Adding the first RNN layer and some Dropout regularisation\n",
    "model.add(SimpleRNN(units = 50,activation='relu', return_sequences = True, input_shape = (length, n_features)))\n",
    "model.add(Dropout(0.2)) \n",
    "# Adding a second RNN layer and some Dropout regularisation.\n",
    "model.add(SimpleRNN(units = 50,activation='relu', return_sequences = True))\n",
    "model.add(Dropout(0.2))\n",
    "# Adding a third RNN layer and some Dropout regularisation. \n",
    "model.add(SimpleRNN(units = 50,activation='relu', return_sequences = True))\n",
    "model.add(Dropout(0.2))\n",
    "# Adding a fourth RNN layer and some Dropout regularisation.\n",
    "model.add(SimpleRNN(units = 50))\n",
    "model.add(Dropout(0.2))\n",
    "# Adding the output layer\n",
    "model.add(Dense(units = 1))\n",
    "# Compiling the RNN\n",
    "model.compile(optimizer = 'adam', loss = 'mse')\n",
    "\n",
    "# Fitting the RNN to the Training set\n",
    "model.fit(generator, epochs = 40, batch_size = 32)"
   ]
  },
  {
   "cell_type": "code",
   "execution_count": 62,
   "id": "4464aa22",
   "metadata": {},
   "outputs": [
    {
     "name": "stdout",
     "output_type": "stream",
     "text": [
      "Epoch 1/30\n",
      "1266/1266 [==============================] - 8s 5ms/step - loss: 0.0054\n",
      "Epoch 2/30\n",
      "1266/1266 [==============================] - 6s 5ms/step - loss: 0.0024\n",
      "Epoch 3/30\n",
      "1266/1266 [==============================] - 6s 5ms/step - loss: 0.0024\n",
      "Epoch 4/30\n",
      "1266/1266 [==============================] - 6s 5ms/step - loss: 0.0029\n",
      "Epoch 5/30\n",
      "1266/1266 [==============================] - 6s 5ms/step - loss: 0.0020\n",
      "Epoch 6/30\n",
      "1266/1266 [==============================] - 6s 5ms/step - loss: 0.0021\n",
      "Epoch 7/30\n",
      "1266/1266 [==============================] - 6s 5ms/step - loss: 0.0028\n",
      "Epoch 8/30\n",
      "1266/1266 [==============================] - 6s 5ms/step - loss: 0.0020\n",
      "Epoch 9/30\n",
      "1266/1266 [==============================] - 6s 5ms/step - loss: 0.0017\n",
      "Epoch 10/30\n",
      "1266/1266 [==============================] - 6s 5ms/step - loss: 0.0019\n",
      "Epoch 11/30\n",
      "1266/1266 [==============================] - 6s 5ms/step - loss: 0.0023\n",
      "Epoch 12/30\n",
      "1266/1266 [==============================] - 6s 5ms/step - loss: 0.0018\n",
      "Epoch 13/30\n",
      "1266/1266 [==============================] - 6s 5ms/step - loss: 0.0020\n",
      "Epoch 14/30\n",
      "1266/1266 [==============================] - 6s 5ms/step - loss: 0.0018\n",
      "Epoch 15/30\n",
      "1266/1266 [==============================] - 6s 5ms/step - loss: 0.0552\n",
      "Epoch 16/30\n",
      "1266/1266 [==============================] - 6s 5ms/step - loss: 0.0552\n",
      "Epoch 17/30\n",
      "1266/1266 [==============================] - 6s 5ms/step - loss: 0.0511\n",
      "Epoch 18/30\n",
      "1266/1266 [==============================] - 6s 5ms/step - loss: 0.0506\n",
      "Epoch 19/30\n",
      "1266/1266 [==============================] - 7s 5ms/step - loss: 0.0510\n",
      "Epoch 20/30\n",
      "1266/1266 [==============================] - 6s 5ms/step - loss: 0.0515\n",
      "Epoch 21/30\n",
      "1266/1266 [==============================] - 6s 5ms/step - loss: 0.0516\n",
      "Epoch 22/30\n",
      "1266/1266 [==============================] - 6s 5ms/step - loss: 0.0556\n",
      "Epoch 23/30\n",
      "1266/1266 [==============================] - 6s 4ms/step - loss: 0.0558\n",
      "Epoch 24/30\n",
      "1266/1266 [==============================] - 6s 4ms/step - loss: 0.0552\n",
      "Epoch 25/30\n",
      "1266/1266 [==============================] - 6s 5ms/step - loss: 0.0549\n",
      "Epoch 26/30\n",
      "1266/1266 [==============================] - 6s 5ms/step - loss: 0.0548\n",
      "Epoch 27/30\n",
      "1266/1266 [==============================] - 6s 4ms/step - loss: 0.0559\n",
      "Epoch 28/30\n",
      "1266/1266 [==============================] - 6s 5ms/step - loss: 0.0451\n",
      "Epoch 29/30\n",
      "1266/1266 [==============================] - 6s 5ms/step - loss: 0.0261\n",
      "Epoch 30/30\n",
      "1266/1266 [==============================] - 6s 5ms/step - loss: 0.0256\n"
     ]
    },
    {
     "data": {
      "text/plain": [
       "<keras.callbacks.History at 0x2022dcc82b0>"
      ]
     },
     "execution_count": 62,
     "metadata": {},
     "output_type": "execute_result"
    }
   ],
   "source": [
    "model = Sequential()\n",
    "\n",
    "model.add(SimpleRNN(units=128, activation=\"tanh\", input_shape=(length, n_features)))\n",
    "model.add(Dropout(0.2))  \n",
    "model.add(Dense(64, activation=\"relu\"))\n",
    "model.add(Dense(32, activation=\"tanh\"))\n",
    "model.add(Dense(1))\n",
    "\n",
    "model.compile(optimizer=\"adam\", loss=\"mse\")\n",
    "\n",
    "model.fit(generator, epochs=30)"
   ]
  },
  {
   "cell_type": "code",
   "execution_count": 63,
   "id": "a5e4118e",
   "metadata": {},
   "outputs": [
    {
     "name": "stdout",
     "output_type": "stream",
     "text": [
      "1/1 [==============================] - 0s 254ms/step\n",
      "1/1 [==============================] - 0s 36ms/step\n",
      "1/1 [==============================] - 0s 36ms/step\n",
      "1/1 [==============================] - 0s 49ms/step\n",
      "1/1 [==============================] - 0s 44ms/step\n",
      "1/1 [==============================] - 0s 38ms/step\n",
      "1/1 [==============================] - 0s 41ms/step\n",
      "1/1 [==============================] - 0s 37ms/step\n",
      "1/1 [==============================] - 0s 42ms/step\n",
      "1/1 [==============================] - 0s 41ms/step\n",
      "1/1 [==============================] - 0s 40ms/step\n",
      "1/1 [==============================] - 0s 36ms/step\n"
     ]
    }
   ],
   "source": [
    "forecast = []\n",
    "first_eval_batch = scaled_full_data[-length:]\n",
    "current_batch = first_eval_batch.reshape((1, length, n_features))\n",
    "\n",
    "for i in range(length):\n",
    "    # get prediction 1 time stamp ahead ([0] is for grabbing just the number instead of [array])\n",
    "    current_pred = model.predict(current_batch)[0]\n",
    "    \n",
    "    # store prediction\n",
    "    forecast.append(current_pred) \n",
    "    \n",
    "    # update batch to now include prediction and drop first value\n",
    "    current_batch = np.append(current_batch[:, 1:, :], [[current_pred]], axis=1)"
   ]
  },
  {
   "cell_type": "code",
   "execution_count": 64,
   "id": "d383de1b",
   "metadata": {},
   "outputs": [
    {
     "data": {
      "text/plain": [
       "array([[803.44606947],\n",
       "       [803.44606947],\n",
       "       [803.44606947],\n",
       "       [803.44606947],\n",
       "       [803.44606947],\n",
       "       [803.44606947],\n",
       "       [803.44606947],\n",
       "       [803.44606947],\n",
       "       [803.44606947],\n",
       "       [803.44606947],\n",
       "       [803.44606947],\n",
       "       [803.44606947]])"
      ]
     },
     "execution_count": 64,
     "metadata": {},
     "output_type": "execute_result"
    }
   ],
   "source": [
    "forecast = scaler.inverse_transform(forecast)\n",
    "forecast"
   ]
  },
  {
   "cell_type": "code",
   "execution_count": 65,
   "id": "ff140021",
   "metadata": {},
   "outputs": [
    {
     "data": {
      "text/html": [
       "<div>\n",
       "<style scoped>\n",
       "    .dataframe tbody tr th:only-of-type {\n",
       "        vertical-align: middle;\n",
       "    }\n",
       "\n",
       "    .dataframe tbody tr th {\n",
       "        vertical-align: top;\n",
       "    }\n",
       "\n",
       "    .dataframe thead th {\n",
       "        text-align: right;\n",
       "    }\n",
       "</style>\n",
       "<table border=\"1\" class=\"dataframe\">\n",
       "  <thead>\n",
       "    <tr style=\"text-align: right;\">\n",
       "      <th></th>\n",
       "      <th>Close</th>\n",
       "    </tr>\n",
       "    <tr>\n",
       "      <th>Date</th>\n",
       "      <th></th>\n",
       "    </tr>\n",
       "  </thead>\n",
       "  <tbody>\n",
       "    <tr>\n",
       "      <th>2012-01-03</th>\n",
       "      <td>663.590</td>\n",
       "    </tr>\n",
       "    <tr>\n",
       "      <th>2012-01-04</th>\n",
       "      <td>666.450</td>\n",
       "    </tr>\n",
       "    <tr>\n",
       "      <th>2012-01-05</th>\n",
       "      <td>657.210</td>\n",
       "    </tr>\n",
       "    <tr>\n",
       "      <th>2012-01-06</th>\n",
       "      <td>648.240</td>\n",
       "    </tr>\n",
       "    <tr>\n",
       "      <th>2012-01-09</th>\n",
       "      <td>620.760</td>\n",
       "    </tr>\n",
       "    <tr>\n",
       "      <th>...</th>\n",
       "      <td>...</td>\n",
       "    </tr>\n",
       "    <tr>\n",
       "      <th>2017-01-25</th>\n",
       "      <td>835.670</td>\n",
       "    </tr>\n",
       "    <tr>\n",
       "      <th>2017-01-26</th>\n",
       "      <td>832.150</td>\n",
       "    </tr>\n",
       "    <tr>\n",
       "      <th>2017-01-27</th>\n",
       "      <td>823.310</td>\n",
       "    </tr>\n",
       "    <tr>\n",
       "      <th>2017-01-30</th>\n",
       "      <td>802.320</td>\n",
       "    </tr>\n",
       "    <tr>\n",
       "      <th>2017-01-31</th>\n",
       "      <td>796.790</td>\n",
       "    </tr>\n",
       "  </tbody>\n",
       "</table>\n",
       "<p>1278 rows × 1 columns</p>\n",
       "</div>"
      ],
      "text/plain": [
       "             Close\n",
       "Date              \n",
       "2012-01-03 663.590\n",
       "2012-01-04 666.450\n",
       "2012-01-05 657.210\n",
       "2012-01-06 648.240\n",
       "2012-01-09 620.760\n",
       "...            ...\n",
       "2017-01-25 835.670\n",
       "2017-01-26 832.150\n",
       "2017-01-27 823.310\n",
       "2017-01-30 802.320\n",
       "2017-01-31 796.790\n",
       "\n",
       "[1278 rows x 1 columns]"
      ]
     },
     "execution_count": 65,
     "metadata": {},
     "output_type": "execute_result"
    }
   ],
   "source": [
    "full_data\n"
   ]
  },
  {
   "cell_type": "code",
   "execution_count": 66,
   "id": "2b12727b",
   "metadata": {},
   "outputs": [
    {
     "data": {
      "text/html": [
       "<div>\n",
       "<style scoped>\n",
       "    .dataframe tbody tr th:only-of-type {\n",
       "        vertical-align: middle;\n",
       "    }\n",
       "\n",
       "    .dataframe tbody tr th {\n",
       "        vertical-align: top;\n",
       "    }\n",
       "\n",
       "    .dataframe thead th {\n",
       "        text-align: right;\n",
       "    }\n",
       "</style>\n",
       "<table border=\"1\" class=\"dataframe\">\n",
       "  <thead>\n",
       "    <tr style=\"text-align: right;\">\n",
       "      <th></th>\n",
       "      <th>Close</th>\n",
       "    </tr>\n",
       "    <tr>\n",
       "      <th>Date</th>\n",
       "      <th></th>\n",
       "    </tr>\n",
       "  </thead>\n",
       "  <tbody>\n",
       "    <tr>\n",
       "      <th>2017-01-03</th>\n",
       "      <td>786.140</td>\n",
       "    </tr>\n",
       "    <tr>\n",
       "      <th>2017-01-04</th>\n",
       "      <td>786.900</td>\n",
       "    </tr>\n",
       "    <tr>\n",
       "      <th>2017-01-05</th>\n",
       "      <td>794.020</td>\n",
       "    </tr>\n",
       "    <tr>\n",
       "      <th>2017-01-06</th>\n",
       "      <td>806.150</td>\n",
       "    </tr>\n",
       "    <tr>\n",
       "      <th>2017-01-09</th>\n",
       "      <td>806.650</td>\n",
       "    </tr>\n",
       "  </tbody>\n",
       "</table>\n",
       "</div>"
      ],
      "text/plain": [
       "             Close\n",
       "Date              \n",
       "2017-01-03 786.140\n",
       "2017-01-04 786.900\n",
       "2017-01-05 794.020\n",
       "2017-01-06 806.150\n",
       "2017-01-09 806.650"
      ]
     },
     "execution_count": 66,
     "metadata": {},
     "output_type": "execute_result"
    }
   ],
   "source": [
    "test.head()\n"
   ]
  },
  {
   "cell_type": "code",
   "execution_count": 67,
   "id": "f4e8afe0",
   "metadata": {},
   "outputs": [
    {
     "data": {
      "text/plain": [
       "DatetimeIndex(['2014-04-01', '2014-05-01', '2014-06-01', '2014-07-01',\n",
       "               '2014-08-01', '2014-09-01', '2014-10-01', '2014-11-01',\n",
       "               '2014-12-01', '2015-01-01', '2015-02-01', '2015-03-01'],\n",
       "              dtype='datetime64[ns]', freq='MS')"
      ]
     },
     "execution_count": 67,
     "metadata": {},
     "output_type": "execute_result"
    }
   ],
   "source": [
    "forecast_index = pd.date_range(start = '2014-03-27', periods = length, freq = 'MS')\n",
    "forecast_index"
   ]
  },
  {
   "cell_type": "code",
   "execution_count": 68,
   "id": "726ffc33",
   "metadata": {},
   "outputs": [
    {
     "data": {
      "text/html": [
       "<div>\n",
       "<style scoped>\n",
       "    .dataframe tbody tr th:only-of-type {\n",
       "        vertical-align: middle;\n",
       "    }\n",
       "\n",
       "    .dataframe tbody tr th {\n",
       "        vertical-align: top;\n",
       "    }\n",
       "\n",
       "    .dataframe thead th {\n",
       "        text-align: right;\n",
       "    }\n",
       "</style>\n",
       "<table border=\"1\" class=\"dataframe\">\n",
       "  <thead>\n",
       "    <tr style=\"text-align: right;\">\n",
       "      <th></th>\n",
       "      <th>Forecast</th>\n",
       "    </tr>\n",
       "  </thead>\n",
       "  <tbody>\n",
       "    <tr>\n",
       "      <th>2014-04-01</th>\n",
       "      <td>803.446</td>\n",
       "    </tr>\n",
       "    <tr>\n",
       "      <th>2014-05-01</th>\n",
       "      <td>803.446</td>\n",
       "    </tr>\n",
       "    <tr>\n",
       "      <th>2014-06-01</th>\n",
       "      <td>803.446</td>\n",
       "    </tr>\n",
       "    <tr>\n",
       "      <th>2014-07-01</th>\n",
       "      <td>803.446</td>\n",
       "    </tr>\n",
       "    <tr>\n",
       "      <th>2014-08-01</th>\n",
       "      <td>803.446</td>\n",
       "    </tr>\n",
       "    <tr>\n",
       "      <th>2014-09-01</th>\n",
       "      <td>803.446</td>\n",
       "    </tr>\n",
       "    <tr>\n",
       "      <th>2014-10-01</th>\n",
       "      <td>803.446</td>\n",
       "    </tr>\n",
       "    <tr>\n",
       "      <th>2014-11-01</th>\n",
       "      <td>803.446</td>\n",
       "    </tr>\n",
       "    <tr>\n",
       "      <th>2014-12-01</th>\n",
       "      <td>803.446</td>\n",
       "    </tr>\n",
       "    <tr>\n",
       "      <th>2015-01-01</th>\n",
       "      <td>803.446</td>\n",
       "    </tr>\n",
       "    <tr>\n",
       "      <th>2015-02-01</th>\n",
       "      <td>803.446</td>\n",
       "    </tr>\n",
       "    <tr>\n",
       "      <th>2015-03-01</th>\n",
       "      <td>803.446</td>\n",
       "    </tr>\n",
       "  </tbody>\n",
       "</table>\n",
       "</div>"
      ],
      "text/plain": [
       "            Forecast\n",
       "2014-04-01   803.446\n",
       "2014-05-01   803.446\n",
       "2014-06-01   803.446\n",
       "2014-07-01   803.446\n",
       "2014-08-01   803.446\n",
       "2014-09-01   803.446\n",
       "2014-10-01   803.446\n",
       "2014-11-01   803.446\n",
       "2014-12-01   803.446\n",
       "2015-01-01   803.446\n",
       "2015-02-01   803.446\n",
       "2015-03-01   803.446"
      ]
     },
     "execution_count": 68,
     "metadata": {},
     "output_type": "execute_result"
    }
   ],
   "source": [
    "forecast_df = pd.DataFrame(data = forecast, index = forecast_index, columns = ['Forecast'])\n",
    "forecast_df"
   ]
  },
  {
   "cell_type": "code",
   "execution_count": 69,
   "id": "6cd1da87",
   "metadata": {},
   "outputs": [
    {
     "data": {
      "text/html": [
       "<div>\n",
       "<style scoped>\n",
       "    .dataframe tbody tr th:only-of-type {\n",
       "        vertical-align: middle;\n",
       "    }\n",
       "\n",
       "    .dataframe tbody tr th {\n",
       "        vertical-align: top;\n",
       "    }\n",
       "\n",
       "    .dataframe thead th {\n",
       "        text-align: right;\n",
       "    }\n",
       "</style>\n",
       "<table border=\"1\" class=\"dataframe\">\n",
       "  <thead>\n",
       "    <tr style=\"text-align: right;\">\n",
       "      <th></th>\n",
       "      <th>Date</th>\n",
       "      <th>Close</th>\n",
       "    </tr>\n",
       "  </thead>\n",
       "  <tbody>\n",
       "    <tr>\n",
       "      <th>0</th>\n",
       "      <td>2014-01-02</td>\n",
       "      <td>1110.070</td>\n",
       "    </tr>\n",
       "    <tr>\n",
       "      <th>1</th>\n",
       "      <td>2014-01-03</td>\n",
       "      <td>1101.970</td>\n",
       "    </tr>\n",
       "    <tr>\n",
       "      <th>2</th>\n",
       "      <td>2014-01-06</td>\n",
       "      <td>1114.260</td>\n",
       "    </tr>\n",
       "    <tr>\n",
       "      <th>3</th>\n",
       "      <td>2014-01-07</td>\n",
       "      <td>1135.740</td>\n",
       "    </tr>\n",
       "    <tr>\n",
       "      <th>4</th>\n",
       "      <td>2014-01-08</td>\n",
       "      <td>1138.110</td>\n",
       "    </tr>\n",
       "    <tr>\n",
       "      <th>5</th>\n",
       "      <td>2014-01-09</td>\n",
       "      <td>1127.150</td>\n",
       "    </tr>\n",
       "    <tr>\n",
       "      <th>6</th>\n",
       "      <td>2014-01-10</td>\n",
       "      <td>1127.090</td>\n",
       "    </tr>\n",
       "    <tr>\n",
       "      <th>7</th>\n",
       "      <td>2014-01-13</td>\n",
       "      <td>1119.910</td>\n",
       "    </tr>\n",
       "    <tr>\n",
       "      <th>8</th>\n",
       "      <td>2014-01-14</td>\n",
       "      <td>1146.250</td>\n",
       "    </tr>\n",
       "    <tr>\n",
       "      <th>9</th>\n",
       "      <td>2014-01-15</td>\n",
       "      <td>1145.480</td>\n",
       "    </tr>\n",
       "    <tr>\n",
       "      <th>10</th>\n",
       "      <td>2014-01-16</td>\n",
       "      <td>1153.050</td>\n",
       "    </tr>\n",
       "    <tr>\n",
       "      <th>11</th>\n",
       "      <td>2014-01-17</td>\n",
       "      <td>1147.380</td>\n",
       "    </tr>\n",
       "    <tr>\n",
       "      <th>12</th>\n",
       "      <td>2014-01-21</td>\n",
       "      <td>1160.510</td>\n",
       "    </tr>\n",
       "    <tr>\n",
       "      <th>13</th>\n",
       "      <td>2014-01-22</td>\n",
       "      <td>1161.830</td>\n",
       "    </tr>\n",
       "    <tr>\n",
       "      <th>14</th>\n",
       "      <td>2014-01-23</td>\n",
       "      <td>1156.920</td>\n",
       "    </tr>\n",
       "    <tr>\n",
       "      <th>15</th>\n",
       "      <td>2014-01-24</td>\n",
       "      <td>1120.750</td>\n",
       "    </tr>\n",
       "    <tr>\n",
       "      <th>16</th>\n",
       "      <td>2014-01-27</td>\n",
       "      <td>1098.210</td>\n",
       "    </tr>\n",
       "    <tr>\n",
       "      <th>17</th>\n",
       "      <td>2014-01-28</td>\n",
       "      <td>1119.940</td>\n",
       "    </tr>\n",
       "    <tr>\n",
       "      <th>18</th>\n",
       "      <td>2014-01-29</td>\n",
       "      <td>1103.890</td>\n",
       "    </tr>\n",
       "    <tr>\n",
       "      <th>19</th>\n",
       "      <td>2014-01-30</td>\n",
       "      <td>1132.280</td>\n",
       "    </tr>\n",
       "    <tr>\n",
       "      <th>20</th>\n",
       "      <td>2014-01-31</td>\n",
       "      <td>1177.740</td>\n",
       "    </tr>\n",
       "    <tr>\n",
       "      <th>21</th>\n",
       "      <td>2014-02-03</td>\n",
       "      <td>1130.330</td>\n",
       "    </tr>\n",
       "    <tr>\n",
       "      <th>22</th>\n",
       "      <td>2014-02-04</td>\n",
       "      <td>1135.040</td>\n",
       "    </tr>\n",
       "    <tr>\n",
       "      <th>23</th>\n",
       "      <td>2014-02-05</td>\n",
       "      <td>1140.070</td>\n",
       "    </tr>\n",
       "    <tr>\n",
       "      <th>24</th>\n",
       "      <td>2014-02-06</td>\n",
       "      <td>1156.780</td>\n",
       "    </tr>\n",
       "    <tr>\n",
       "      <th>25</th>\n",
       "      <td>2014-02-07</td>\n",
       "      <td>1174.220</td>\n",
       "    </tr>\n",
       "    <tr>\n",
       "      <th>26</th>\n",
       "      <td>2014-02-10</td>\n",
       "      <td>1169.720</td>\n",
       "    </tr>\n",
       "    <tr>\n",
       "      <th>27</th>\n",
       "      <td>2014-02-11</td>\n",
       "      <td>1186.920</td>\n",
       "    </tr>\n",
       "    <tr>\n",
       "      <th>28</th>\n",
       "      <td>2014-02-12</td>\n",
       "      <td>1183.440</td>\n",
       "    </tr>\n",
       "    <tr>\n",
       "      <th>29</th>\n",
       "      <td>2014-02-13</td>\n",
       "      <td>1196.610</td>\n",
       "    </tr>\n",
       "    <tr>\n",
       "      <th>30</th>\n",
       "      <td>2014-02-14</td>\n",
       "      <td>1199.510</td>\n",
       "    </tr>\n",
       "    <tr>\n",
       "      <th>31</th>\n",
       "      <td>2014-02-19</td>\n",
       "      <td>1199.050</td>\n",
       "    </tr>\n",
       "    <tr>\n",
       "      <th>32</th>\n",
       "      <td>2014-03-03</td>\n",
       "      <td>1199.400</td>\n",
       "    </tr>\n",
       "    <tr>\n",
       "      <th>33</th>\n",
       "      <td>2014-03-11</td>\n",
       "      <td>1196.700</td>\n",
       "    </tr>\n",
       "    <tr>\n",
       "      <th>34</th>\n",
       "      <td>2014-03-13</td>\n",
       "      <td>1185.800</td>\n",
       "    </tr>\n",
       "    <tr>\n",
       "      <th>35</th>\n",
       "      <td>2014-03-14</td>\n",
       "      <td>1169.590</td>\n",
       "    </tr>\n",
       "    <tr>\n",
       "      <th>36</th>\n",
       "      <td>2014-03-17</td>\n",
       "      <td>1188.840</td>\n",
       "    </tr>\n",
       "    <tr>\n",
       "      <th>37</th>\n",
       "      <td>2014-03-19</td>\n",
       "      <td>1195.970</td>\n",
       "    </tr>\n",
       "    <tr>\n",
       "      <th>38</th>\n",
       "      <td>2014-03-20</td>\n",
       "      <td>1193.880</td>\n",
       "    </tr>\n",
       "    <tr>\n",
       "      <th>39</th>\n",
       "      <td>2014-03-21</td>\n",
       "      <td>1179.800</td>\n",
       "    </tr>\n",
       "    <tr>\n",
       "      <th>40</th>\n",
       "      <td>2014-03-24</td>\n",
       "      <td>1154.760</td>\n",
       "    </tr>\n",
       "    <tr>\n",
       "      <th>41</th>\n",
       "      <td>2014-03-25</td>\n",
       "      <td>1155.550</td>\n",
       "    </tr>\n",
       "    <tr>\n",
       "      <th>42</th>\n",
       "      <td>2014-03-26</td>\n",
       "      <td>1128.870</td>\n",
       "    </tr>\n",
       "    <tr>\n",
       "      <th>43</th>\n",
       "      <td>2014-03-27</td>\n",
       "      <td>556.930</td>\n",
       "    </tr>\n",
       "    <tr>\n",
       "      <th>44</th>\n",
       "      <td>2014-03-28</td>\n",
       "      <td>558.460</td>\n",
       "    </tr>\n",
       "  </tbody>\n",
       "</table>\n",
       "</div>"
      ],
      "text/plain": [
       "         Date    Close\n",
       "0  2014-01-02 1110.070\n",
       "1  2014-01-03 1101.970\n",
       "2  2014-01-06 1114.260\n",
       "3  2014-01-07 1135.740\n",
       "4  2014-01-08 1138.110\n",
       "5  2014-01-09 1127.150\n",
       "6  2014-01-10 1127.090\n",
       "7  2014-01-13 1119.910\n",
       "8  2014-01-14 1146.250\n",
       "9  2014-01-15 1145.480\n",
       "10 2014-01-16 1153.050\n",
       "11 2014-01-17 1147.380\n",
       "12 2014-01-21 1160.510\n",
       "13 2014-01-22 1161.830\n",
       "14 2014-01-23 1156.920\n",
       "15 2014-01-24 1120.750\n",
       "16 2014-01-27 1098.210\n",
       "17 2014-01-28 1119.940\n",
       "18 2014-01-29 1103.890\n",
       "19 2014-01-30 1132.280\n",
       "20 2014-01-31 1177.740\n",
       "21 2014-02-03 1130.330\n",
       "22 2014-02-04 1135.040\n",
       "23 2014-02-05 1140.070\n",
       "24 2014-02-06 1156.780\n",
       "25 2014-02-07 1174.220\n",
       "26 2014-02-10 1169.720\n",
       "27 2014-02-11 1186.920\n",
       "28 2014-02-12 1183.440\n",
       "29 2014-02-13 1196.610\n",
       "30 2014-02-14 1199.510\n",
       "31 2014-02-19 1199.050\n",
       "32 2014-03-03 1199.400\n",
       "33 2014-03-11 1196.700\n",
       "34 2014-03-13 1185.800\n",
       "35 2014-03-14 1169.590\n",
       "36 2014-03-17 1188.840\n",
       "37 2014-03-19 1195.970\n",
       "38 2014-03-20 1193.880\n",
       "39 2014-03-21 1179.800\n",
       "40 2014-03-24 1154.760\n",
       "41 2014-03-25 1155.550\n",
       "42 2014-03-26 1128.870\n",
       "43 2014-03-27  556.930\n",
       "44 2014-03-28  558.460"
      ]
     },
     "execution_count": 69,
     "metadata": {},
     "output_type": "execute_result"
    }
   ],
   "source": [
    "train['2014':'2015'][train['Close'] < 1200].reset_index().head(45)\n"
   ]
  },
  {
   "cell_type": "code",
   "execution_count": 70,
   "id": "2e529354",
   "metadata": {},
   "outputs": [
    {
     "data": {
      "text/plain": [
       "[<matplotlib.lines.Line2D at 0x20239862470>]"
      ]
     },
     "execution_count": 70,
     "metadata": {},
     "output_type": "execute_result"
    },
    {
     "data": {
      "image/png": "[encoded data removed]",
      "text/plain": [
       "<Figure size 1600x800 with 1 Axes>"
      ]
     },
     "metadata": {},
     "output_type": "display_data"
    }
   ],
   "source": [
    "plt.figure(figsize = (16, 8))\n",
    "plt.plot(full_data.index, full_data['Close'])\n",
    "plt.plot(forecast_df.index, forecast_df['Forecast'])"
   ]
  },
  {
   "cell_type": "code",
   "execution_count": 71,
   "id": "58a2b5c8",
   "metadata": {},
   "outputs": [
    {
     "data": {
      "text/html": [
       "<div>\n",
       "<style scoped>\n",
       "    .dataframe tbody tr th:only-of-type {\n",
       "        vertical-align: middle;\n",
       "    }\n",
       "\n",
       "    .dataframe tbody tr th {\n",
       "        vertical-align: top;\n",
       "    }\n",
       "\n",
       "    .dataframe thead th {\n",
       "        text-align: right;\n",
       "    }\n",
       "</style>\n",
       "<table border=\"1\" class=\"dataframe\">\n",
       "  <thead>\n",
       "    <tr style=\"text-align: right;\">\n",
       "      <th></th>\n",
       "      <th>Close</th>\n",
       "    </tr>\n",
       "    <tr>\n",
       "      <th>Date</th>\n",
       "      <th></th>\n",
       "    </tr>\n",
       "  </thead>\n",
       "  <tbody>\n",
       "    <tr>\n",
       "      <th>2017-01-03</th>\n",
       "      <td>786.140</td>\n",
       "    </tr>\n",
       "    <tr>\n",
       "      <th>2017-01-04</th>\n",
       "      <td>786.900</td>\n",
       "    </tr>\n",
       "    <tr>\n",
       "      <th>2017-01-05</th>\n",
       "      <td>794.020</td>\n",
       "    </tr>\n",
       "    <tr>\n",
       "      <th>2017-01-06</th>\n",
       "      <td>806.150</td>\n",
       "    </tr>\n",
       "    <tr>\n",
       "      <th>2017-01-09</th>\n",
       "      <td>806.650</td>\n",
       "    </tr>\n",
       "  </tbody>\n",
       "</table>\n",
       "</div>"
      ],
      "text/plain": [
       "             Close\n",
       "Date              \n",
       "2017-01-03 786.140\n",
       "2017-01-04 786.900\n",
       "2017-01-05 794.020\n",
       "2017-01-06 806.150\n",
       "2017-01-09 806.650"
      ]
     },
     "execution_count": 71,
     "metadata": {},
     "output_type": "execute_result"
    }
   ],
   "source": [
    "test.head()\n"
   ]
  },
  {
   "cell_type": "code",
   "execution_count": 72,
   "id": "898f5a67",
   "metadata": {},
   "outputs": [
    {
     "data": {
      "text/plain": [
       "DatetimeIndex(['2017-02-01', '2017-03-01', '2017-04-01', '2017-05-01',\n",
       "               '2017-06-01', '2017-07-01', '2017-08-01', '2017-09-01',\n",
       "               '2017-10-01', '2017-11-01', '2017-12-01', '2018-01-01'],\n",
       "              dtype='datetime64[ns]', freq='MS')"
      ]
     },
     "execution_count": 72,
     "metadata": {},
     "output_type": "execute_result"
    }
   ],
   "source": [
    "forecast_index = pd.date_range(start = '2017-01-03', periods = length, freq = 'MS')\n",
    "forecast_index"
   ]
  },
  {
   "cell_type": "code",
   "execution_count": 73,
   "id": "0806dd17",
   "metadata": {},
   "outputs": [
    {
     "data": {
      "text/html": [
       "<div>\n",
       "<style scoped>\n",
       "    .dataframe tbody tr th:only-of-type {\n",
       "        vertical-align: middle;\n",
       "    }\n",
       "\n",
       "    .dataframe tbody tr th {\n",
       "        vertical-align: top;\n",
       "    }\n",
       "\n",
       "    .dataframe thead th {\n",
       "        text-align: right;\n",
       "    }\n",
       "</style>\n",
       "<table border=\"1\" class=\"dataframe\">\n",
       "  <thead>\n",
       "    <tr style=\"text-align: right;\">\n",
       "      <th></th>\n",
       "      <th>Forecast</th>\n",
       "    </tr>\n",
       "  </thead>\n",
       "  <tbody>\n",
       "    <tr>\n",
       "      <th>2017-02-01</th>\n",
       "      <td>803.446</td>\n",
       "    </tr>\n",
       "    <tr>\n",
       "      <th>2017-03-01</th>\n",
       "      <td>803.446</td>\n",
       "    </tr>\n",
       "    <tr>\n",
       "      <th>2017-04-01</th>\n",
       "      <td>803.446</td>\n",
       "    </tr>\n",
       "    <tr>\n",
       "      <th>2017-05-01</th>\n",
       "      <td>803.446</td>\n",
       "    </tr>\n",
       "    <tr>\n",
       "      <th>2017-06-01</th>\n",
       "      <td>803.446</td>\n",
       "    </tr>\n",
       "    <tr>\n",
       "      <th>2017-07-01</th>\n",
       "      <td>803.446</td>\n",
       "    </tr>\n",
       "    <tr>\n",
       "      <th>2017-08-01</th>\n",
       "      <td>803.446</td>\n",
       "    </tr>\n",
       "    <tr>\n",
       "      <th>2017-09-01</th>\n",
       "      <td>803.446</td>\n",
       "    </tr>\n",
       "    <tr>\n",
       "      <th>2017-10-01</th>\n",
       "      <td>803.446</td>\n",
       "    </tr>\n",
       "    <tr>\n",
       "      <th>2017-11-01</th>\n",
       "      <td>803.446</td>\n",
       "    </tr>\n",
       "    <tr>\n",
       "      <th>2017-12-01</th>\n",
       "      <td>803.446</td>\n",
       "    </tr>\n",
       "    <tr>\n",
       "      <th>2018-01-01</th>\n",
       "      <td>803.446</td>\n",
       "    </tr>\n",
       "  </tbody>\n",
       "</table>\n",
       "</div>"
      ],
      "text/plain": [
       "            Forecast\n",
       "2017-02-01   803.446\n",
       "2017-03-01   803.446\n",
       "2017-04-01   803.446\n",
       "2017-05-01   803.446\n",
       "2017-06-01   803.446\n",
       "2017-07-01   803.446\n",
       "2017-08-01   803.446\n",
       "2017-09-01   803.446\n",
       "2017-10-01   803.446\n",
       "2017-11-01   803.446\n",
       "2017-12-01   803.446\n",
       "2018-01-01   803.446"
      ]
     },
     "execution_count": 73,
     "metadata": {},
     "output_type": "execute_result"
    }
   ],
   "source": [
    "forecast_df = pd.DataFrame(data = forecast, index = forecast_index, columns = ['Forecast'])\n",
    "forecast_df"
   ]
  },
  {
   "cell_type": "code",
   "execution_count": 74,
   "id": "61aca4d0",
   "metadata": {},
   "outputs": [
    {
     "data": {
      "text/plain": [
       "[<matplotlib.lines.Line2D at 0x202391c5840>]"
      ]
     },
     "execution_count": 74,
     "metadata": {},
     "output_type": "execute_result"
    },
    {
     "data": {
      "image/png": "[encoded data removed]",
      "text/plain": [
       "<Figure size 1600x800 with 1 Axes>"
      ]
     },
     "metadata": {},
     "output_type": "display_data"
    }
   ],
   "source": [
    "plt.figure(figsize = (16, 8))\n",
    "plt.plot(full_data.index, full_data['Close'])\n",
    "plt.plot(forecast_df.index, forecast_df['Forecast'])"
   ]
  },
  {
   "cell_type": "code",
   "execution_count": null,
   "id": "73f7dcc1",
   "metadata": {},
   "outputs": [],
   "source": []
  }
 ],
 "metadata": {
  "kernelspec": {
   "display_name": "Python 3 (ipykernel)",
   "language": "python",
   "name": "python3"
  },
  "language_info": {
   "codemirror_mode": {
    "name": "ipython",
    "version": 3
   },
   "file_extension": ".py",
   "mimetype": "text/x-python",
   "name": "python",
   "nbconvert_exporter": "python",
   "pygments_lexer": "ipython3",
   "version": "3.10.11"
  }
 },
 "nbformat": 4,
 "nbformat_minor": 5
}
